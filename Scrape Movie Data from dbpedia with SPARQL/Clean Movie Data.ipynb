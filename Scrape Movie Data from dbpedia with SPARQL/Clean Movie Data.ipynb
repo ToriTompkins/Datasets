{
 "cells": [
  {
   "cell_type": "code",
   "execution_count": 15,
   "metadata": {},
   "outputs": [],
   "source": [
    "import pandas as pd"
   ]
  },
  {
   "cell_type": "code",
   "execution_count": 16,
   "metadata": {},
   "outputs": [],
   "source": [
    "from os import listdir\n",
    "\n",
    "rawFiles = listdir(\"./Movie Data/RAW/\")\n",
    "\n",
    "for rawData in rawFiles:\n",
    "    movies = pd.read_csv('./Movie Data/RAW/' + rawData, on_bad_lines='skip')\n",
    "\n",
    "    movies[\"film\"] = movies[\"film\"].str.replace('http://dbpedia.org/resource/', '', regex=True).str.replace('_', ' ', regex=True)\n",
    "    movies[\"subjects\"] = movies[\"subjects\"].str.replace('http://dbpedia.org/resource/Category:', '', regex=True).str.replace('_', ' ', regex=True)\n",
    "    movies[\"starring\"] = movies[\"starring\"].str.replace('http://dbpedia.org/resource/', '', regex=True).str.replace('_', ' ', regex=True)\n",
    "    movies[\"cinematography\"] = movies[\"cinematography\"].str.replace('http://dbpedia.org/resource/', '', regex=True).str.replace('_', ' ', regex=True)\n",
    "    movies[\"director\"] = movies[\"director\"].str.replace('http://dbpedia.org/resource/', '', regex=True).str.replace('_', ' ', regex=True)\n",
    "    movies[\"producer\"] = movies[\"director\"].str.replace('http://dbpedia.org/resource/', '', regex=True).str.replace('_', ' ', regex=True)\n",
    "    \n",
    "    movies.to_csv(\"./Movie Data/CLEAN/\" + rawData.replace(\"RAW\", \"CLEAN\"), index=False)"
   ]
  },
  {
   "cell_type": "code",
   "execution_count": null,
   "metadata": {},
   "outputs": [],
   "source": []
  }
 ],
 "metadata": {
  "kernelspec": {
   "display_name": "Python 3",
   "language": "python",
   "name": "python3"
  },
  "language_info": {
   "codemirror_mode": {
    "name": "ipython",
    "version": 3
   },
   "file_extension": ".py",
   "mimetype": "text/x-python",
   "name": "python",
   "nbconvert_exporter": "python",
   "pygments_lexer": "ipython3",
   "version": "3.7.6"
  }
 },
 "nbformat": 4,
 "nbformat_minor": 4
}
