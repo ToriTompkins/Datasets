{
 "cells": [
  {
   "cell_type": "code",
   "execution_count": 32,
   "metadata": {},
   "outputs": [],
   "source": [
    "import pandas as pd\n",
    "import networkx as nx\n",
    "import numpy as np"
   ]
  },
  {
   "cell_type": "code",
   "execution_count": 33,
   "metadata": {},
   "outputs": [],
   "source": [
    "romcomData = pd.read_csv(\"Movie Data/CLEAN/CLEANRomCom.csv\")"
   ]
  },
  {
   "cell_type": "code",
   "execution_count": 34,
   "metadata": {},
   "outputs": [],
   "source": [
    "romcomData[\"starring\"] = romcomData[\"starring\"].str.split(\"--\").explode('starring')\n",
    "edgeList = romcomData[[\"film\", \"starring\"]]"
   ]
  },
  {
   "cell_type": "code",
   "execution_count": 37,
   "metadata": {},
   "outputs": [
    {
     "data": {
      "text/html": [
       "<div>\n",
       "<style scoped>\n",
       "    .dataframe tbody tr th:only-of-type {\n",
       "        vertical-align: middle;\n",
       "    }\n",
       "\n",
       "    .dataframe tbody tr th {\n",
       "        vertical-align: top;\n",
       "    }\n",
       "\n",
       "    .dataframe thead th {\n",
       "        text-align: right;\n",
       "    }\n",
       "</style>\n",
       "<table border=\"1\" class=\"dataframe\">\n",
       "  <thead>\n",
       "    <tr style=\"text-align: right;\">\n",
       "      <th></th>\n",
       "      <th>film</th>\n",
       "      <th>starring</th>\n",
       "    </tr>\n",
       "  </thead>\n",
       "  <tbody>\n",
       "    <tr>\n",
       "      <th>0</th>\n",
       "      <td>My Dear Desperado</td>\n",
       "      <td>Jung Yu-mi (actress born 1983)</td>\n",
       "    </tr>\n",
       "    <tr>\n",
       "      <th>1</th>\n",
       "      <td>The Truth About Cats &amp; Dogs</td>\n",
       "      <td>Park Joong-hoon</td>\n",
       "    </tr>\n",
       "    <tr>\n",
       "      <th>2</th>\n",
       "      <td>Thambikku Entha Ooru</td>\n",
       "      <td>Jamie Foxx</td>\n",
       "    </tr>\n",
       "    <tr>\n",
       "      <th>3</th>\n",
       "      <td>The Truth About Beauty</td>\n",
       "      <td>Uma Thurman</td>\n",
       "    </tr>\n",
       "    <tr>\n",
       "      <th>5</th>\n",
       "      <td>UnIndian</td>\n",
       "      <td>Madhavi (actress)</td>\n",
       "    </tr>\n",
       "    <tr>\n",
       "      <th>...</th>\n",
       "      <td>...</td>\n",
       "      <td>...</td>\n",
       "    </tr>\n",
       "    <tr>\n",
       "      <th>5385</th>\n",
       "      <td>StalkHer</td>\n",
       "      <td>Aden Gillett, Sonia Williams, Susannah Harker,...</td>\n",
       "    </tr>\n",
       "    <tr>\n",
       "      <th>5386</th>\n",
       "      <td>The Play Girl</td>\n",
       "      <td>Ambrose Hui</td>\n",
       "    </tr>\n",
       "    <tr>\n",
       "      <th>5387</th>\n",
       "      <td>Uli the Farmhand</td>\n",
       "      <td>Viann Zhang</td>\n",
       "    </tr>\n",
       "    <tr>\n",
       "      <th>5388</th>\n",
       "      <td>Vadagupatti Maapillai</td>\n",
       "      <td>Carson Nicely</td>\n",
       "    </tr>\n",
       "    <tr>\n",
       "      <th>5389</th>\n",
       "      <td>Vadagupatti Maapillai</td>\n",
       "      <td>Thashana McQuiston</td>\n",
       "    </tr>\n",
       "  </tbody>\n",
       "</table>\n",
       "<p>4975 rows × 2 columns</p>\n",
       "</div>"
      ],
      "text/plain": [
       "                             film  \\\n",
       "0               My Dear Desperado   \n",
       "1     The Truth About Cats & Dogs   \n",
       "2            Thambikku Entha Ooru   \n",
       "3          The Truth About Beauty   \n",
       "5                        UnIndian   \n",
       "...                           ...   \n",
       "5385                     StalkHer   \n",
       "5386                The Play Girl   \n",
       "5387             Uli the Farmhand   \n",
       "5388        Vadagupatti Maapillai   \n",
       "5389        Vadagupatti Maapillai   \n",
       "\n",
       "                                               starring  \n",
       "0                        Jung Yu-mi (actress born 1983)  \n",
       "1                                       Park Joong-hoon  \n",
       "2                                            Jamie Foxx  \n",
       "3                                           Uma Thurman  \n",
       "5                                     Madhavi (actress)  \n",
       "...                                                 ...  \n",
       "5385  Aden Gillett, Sonia Williams, Susannah Harker,...  \n",
       "5386                                        Ambrose Hui  \n",
       "5387                                        Viann Zhang  \n",
       "5388                                      Carson Nicely  \n",
       "5389                                 Thashana McQuiston  \n",
       "\n",
       "[4975 rows x 2 columns]"
      ]
     },
     "execution_count": 37,
     "metadata": {},
     "output_type": "execute_result"
    }
   ],
   "source": [
    "edgeList.dropna()"
   ]
  },
  {
   "cell_type": "code",
   "execution_count": 38,
   "metadata": {},
   "outputs": [],
   "source": [
    "G = nx.from_pandas_edgelist(edgeList, source=\"film\", target='starring')"
   ]
  },
  {
   "cell_type": "code",
   "execution_count": 39,
   "metadata": {},
   "outputs": [
    {
     "data": {
      "image/png": "[encoded data removed]",
      "text/plain": [
       "<Figure size 432x288 with 1 Axes>"
      ]
     },
     "metadata": {},
     "output_type": "display_data"
    }
   ],
   "source": [
    "nx.draw(G)"
   ]
  },
  {
   "cell_type": "code",
   "execution_count": 40,
   "metadata": {},
   "outputs": [
    {
     "data": {
      "text/plain": [
       "'Name: \\nType: Graph\\nNumber of nodes: 6312\\nNumber of edges: 5311\\nAverage degree:   1.6828'"
      ]
     },
     "execution_count": 40,
     "metadata": {},
     "output_type": "execute_result"
    }
   ],
   "source": [
    "nx.info(G)"
   ]
  },
  {
   "cell_type": "code",
   "execution_count": 50,
   "metadata": {},
   "outputs": [
    {
     "data": {
      "text/plain": [
       "NaN                              0.054983\n",
       "Can't Buy Me Love (TV series)    0.033909\n",
       "New Year Blues                   0.004912\n",
       "Hot Summer Days                  0.004278\n",
       "Hyde Jekyll, Me                  0.004278\n",
       "                                   ...   \n",
       "Adam Campbell                    0.000158\n",
       "Tania Zaetta                     0.000158\n",
       "Acapulco (film)                  0.000158\n",
       "Unexpectedly Yours               0.000158\n",
       "Thashana McQuiston               0.000158\n",
       "Length: 6312, dtype: float64"
      ]
     },
     "execution_count": 50,
     "metadata": {},
     "output_type": "execute_result"
    }
   ],
   "source": [
    " pd.Series(nx.degree_centrality(G)).sort_values(ascending=False)"
   ]
  },
  {
   "cell_type": "code",
   "execution_count": 61,
   "metadata": {},
   "outputs": [
    {
     "data": {
      "text/plain": [
       "Series([], dtype: int64)"
      ]
     },
     "execution_count": 61,
     "metadata": {},
     "output_type": "execute_result"
    }
   ],
   "source": [
    "romcomData[[\"film\", \"starring\"]].groupby(\"starring\", axis=1).size()"
   ]
  },
  {
   "cell_type": "code",
   "execution_count": null,
   "metadata": {},
   "outputs": [],
   "source": []
  }
 ],
 "metadata": {
  "kernelspec": {
   "display_name": "Python 3",
   "language": "python",
   "name": "python3"
  },
  "language_info": {
   "codemirror_mode": {
    "name": "ipython",
    "version": 3
   },
   "file_extension": ".py",
   "mimetype": "text/x-python",
   "name": "python",
   "nbconvert_exporter": "python",
   "pygments_lexer": "ipython3",
   "version": "3.7.6"
  }
 },
 "nbformat": 4,
 "nbformat_minor": 4
}
