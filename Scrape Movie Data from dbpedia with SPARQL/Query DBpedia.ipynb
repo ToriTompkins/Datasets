{
 "cells": [
  {
   "cell_type": "code",
   "execution_count": 92,
   "metadata": {},
   "outputs": [],
   "source": [
    "originalQuery = \"\"\"\n",
    "SELECT DISTINCT ?film, ?number, ?abstract, (GROUP_CONCAT(DISTINCT ?starring; SEPARATOR=\"-\") AS ?starring), ?name, (GROUP_CONCAT(DISTINCT ?subject; SEPARATOR=\"-\") AS ?subjects)\n",
    "                , ?cinematography, ?director, ?gross, (GROUP_CONCAT(DISTINCT ?producer; SEPARATOR=\"-\") AS ?producer), ?language\n",
    "WHERE\n",
    "     {\n",
    "        ?film dbo:wikiPageWikiLink dbr:Romantic_comedy .\n",
    "        ?film dbo:wikiPageID ?number .\n",
    "        ?film dbp:starring ?starring .\n",
    "        ?film rdfs:comment ?abstract .\n",
    "        ?film dbp:name ?name .\n",
    "        OPTIONAL { ?film dct:subject ?subject } .\n",
    "        OPTIONAL { ?film dbo:cinematography ?cinematography } .\n",
    "        OPTIONAL { ?film dbo:director ?director } .\n",
    "        OPTIONAL { ?film dbo:gross ?gross } .\n",
    "        OPTIONAL { ?film dbo:producer ?producer } .\n",
    "        OPTIONAL { ?film dbp:language ?language } .\n",
    "\n",
    "\n",
    "        FILTER ( LANG ( ?abstract ) = 'en' )\n",
    "      }\n",
    "\"\"\""
   ]
  },
  {
   "cell_type": "code",
   "execution_count": 93,
   "metadata": {},
   "outputs": [],
   "source": [
    "def queryDBPedia(originalQuery, limit=1000, filename=\"results\", header=True):\n",
    "\n",
    "    from SPARQLWrapper import SPARQLWrapper, JSON\n",
    "    sparql = SPARQLWrapper(\"http://dbpedia.org/sparql\")\n",
    "    sparql.setReturnFormat(JSON)\n",
    "    \n",
    "    ## Get column names\n",
    "    query = originalQuery + \" LIMIT 1\"\n",
    "    sparql.setQuery(query)\n",
    "    columns = sparql.query().convert()\n",
    "    columnNames = \"\"\n",
    "    for columnName in columns[\"head\"][\"vars\"]:\n",
    "        if columnNames == \"\":\n",
    "            columnNames = '\"' + columnName + '\"'\n",
    "        else: \n",
    "            columnNames = columnNames + \",\" + '\"' + columnName + '\"'\n",
    "    if header:\n",
    "        with open(filename + \".csv\",\"a\", encoding=\"utf-8\") as f:\n",
    "            f.write(columnNames + \"\\n\")\n",
    "    \n",
    "    for i in range(limit):\n",
    "        print(\"Rows Processed: \" + str(1000*i))\n",
    "        query = originalQuery + \"\"\"\n",
    "                                    LIMIT 1000\n",
    "                                    OFFSET \"\"\" + str(i) + \"000\"\n",
    "        sparql.setQuery(query)\n",
    "        results = sparql.query().convert()\n",
    "        \n",
    "        if results[\"results\"][\"bindings\"]==[]:\n",
    "            break\n",
    "        for result in results[\"results\"][\"bindings\"]:\n",
    "            resultRow = \"\"\n",
    "            for column in columns[\"head\"][\"vars\"]:\n",
    "                value = result.get(column, \"na\")\n",
    "                if value != \"na\":\n",
    "                    value = value[\"value\"]\n",
    "                if resultRow == \"\":\n",
    "                    resultRow = '\"' + value + '\"'\n",
    "                else: \n",
    "                    resultRow = resultRow + \",\" + '\"' + value + '\"'\n",
    "            with open(filename + \".csv\",\"a\", encoding=\"utf-8\") as f:\n",
    "                f.write(resultRow + \"\\n\")"
   ]
  },
  {
   "cell_type": "code",
   "execution_count": 94,
   "metadata": {},
   "outputs": [
    {
     "name": "stdout",
     "output_type": "stream",
     "text": [
      "Rows Processed: 0\n",
      "Rows Processed: 1000\n",
      "Rows Processed: 2000\n",
      "Rows Processed: 3000\n",
      "Rows Processed: 4000\n",
      "Rows Processed: 5000\n",
      "Rows Processed: 6000\n"
     ]
    }
   ],
   "source": [
    "queryDBPedia(originalQuery, limit=100, filename=\"RAWRomCom\")"
   ]
  },
  {
   "cell_type": "code",
   "execution_count": 96,
   "metadata": {},
   "outputs": [
    {
     "name": "stdout",
     "output_type": "stream",
     "text": [
      "Rows Processed: 0\n",
      "Rows Processed: 1000\n"
     ]
    }
   ],
   "source": [
    "q2 = \"\"\"\n",
    "SELECT DISTINCT ?film, ?number, ?abstract, (GROUP_CONCAT(DISTINCT ?starring; SEPARATOR=\"-\") AS ?starring), ?name, (GROUP_CONCAT(DISTINCT ?subject; SEPARATOR=\"-\") AS ?subjects)\n",
    "                , ?cinematography, ?director, ?gross, (GROUP_CONCAT(DISTINCT ?producer; SEPARATOR=\"-\") AS ?producer), ?language\n",
    "WHERE\n",
    "     {\n",
    "        ?film dbo:wikiPageWikiLink dbc:2000_horror_films .\n",
    "        ?film dbo:wikiPageID ?number .\n",
    "        ?film dbp:starring ?starring .\n",
    "        ?film rdfs:comment ?abstract .\n",
    "        ?film dbp:name ?name .\n",
    "        OPTIONAL { ?film dct:subject ?subject } .\n",
    "        OPTIONAL { ?film dbo:cinematography ?cinematography } .\n",
    "        OPTIONAL { ?film dbo:director ?director } .\n",
    "        OPTIONAL { ?film dbo:gross ?gross } .\n",
    "        OPTIONAL { ?film dbo:producer ?producer } .\n",
    "        OPTIONAL { ?film dbp:language ?language } .\n",
    "\n",
    "\n",
    "        FILTER ( LANG ( ?abstract ) = 'en' )\n",
    "      }\n",
    "\"\"\"\n",
    "\n",
    "queryDBPedia(q2, limit=100, filename=\"RAW2000Horror\", header=True)"
   ]
  },
  {
   "cell_type": "code",
   "execution_count": 91,
   "metadata": {},
   "outputs": [
    {
     "name": "stdout",
     "output_type": "stream",
     "text": [
      "Rows Processed: 0\n",
      "Rows Processed: 1000\n",
      "Rows Processed: 2000\n",
      "Rows Processed: 3000\n",
      "Rows Processed: 4000\n",
      "Rows Processed: 5000\n",
      "Rows Processed: 6000\n",
      "Rows Processed: 7000\n",
      "Rows Processed: 8000\n",
      "Rows Processed: 9000\n"
     ]
    }
   ],
   "source": [
    "q2 = \"\"\"\n",
    "SELECT DISTINCT ?film, ?number, ?abstract, (GROUP_CONCAT(DISTINCT ?starring; SEPARATOR=\"-\") AS ?starring), ?name, (GROUP_CONCAT(DISTINCT ?subject; SEPARATOR=\"-\") AS ?subjects)\n",
    "                , ?cinematography, ?director, ?gross, (GROUP_CONCAT(DISTINCT ?producer; SEPARATOR=\"-\") AS ?producer), ?language\n",
    "WHERE\n",
    "     {\n",
    "        ?film dbo:wikiPageWikiLink dbr:Action_film .\n",
    "        ?film dbo:wikiPageID ?number .\n",
    "        ?film dbp:starring ?starring .\n",
    "        ?film rdfs:comment ?abstract .\n",
    "        ?film dbp:name ?name .\n",
    "        OPTIONAL { ?film dct:subject ?subject } .\n",
    "        OPTIONAL { ?film dbo:cinematography ?cinematography } .\n",
    "        OPTIONAL { ?film dbo:director ?director } .\n",
    "        OPTIONAL { ?film dbo:gross ?gross } .\n",
    "        OPTIONAL { ?film dbo:producer ?producer } .\n",
    "        OPTIONAL { ?film dbp:language ?language } .\n",
    "\n",
    "\n",
    "        FILTER ( LANG ( ?abstract ) = 'en' )\n",
    "      }\n",
    "\"\"\"\n",
    "\n",
    "queryDBPedia(q2, limit=100, filename=\"RAWAction\", header=True)"
   ]
  },
  {
   "cell_type": "code",
   "execution_count": null,
   "metadata": {},
   "outputs": [],
   "source": []
  }
 ],
 "metadata": {
  "kernelspec": {
   "display_name": "Python 3",
   "language": "python",
   "name": "python3"
  },
  "language_info": {
   "codemirror_mode": {
    "name": "ipython",
    "version": 3
   },
   "file_extension": ".py",
   "mimetype": "text/x-python",
   "name": "python",
   "nbconvert_exporter": "python",
   "pygments_lexer": "ipython3",
   "version": "3.7.6"
  }
 },
 "nbformat": 4,
 "nbformat_minor": 4
}
